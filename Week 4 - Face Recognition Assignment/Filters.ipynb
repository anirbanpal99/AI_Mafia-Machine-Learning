{
 "cells": [
  {
   "cell_type": "code",
   "execution_count": 1,
   "metadata": {},
   "outputs": [],
   "source": [
    "import numpy as np\n",
    "import cv2\n",
    "import os"
   ]
  },
  {
   "cell_type": "code",
   "execution_count": 2,
   "metadata": {},
   "outputs": [],
   "source": [
    "img = cv2.imread('Train/Jamie_Before.jpg')\n",
    "gray = cv2.cvtColor(img, cv2.COLOR_BGR2GRAY)\n",
    "# cv2.imshow('image',img)\n",
    "# cv2.waitKey(0)\n",
    "# cv2.destroyAllWindows()"
   ]
  },
  {
   "cell_type": "code",
   "execution_count": 3,
   "metadata": {},
   "outputs": [],
   "source": [
    "glass = cv2.imread('Train/glasses.png',-1)\n",
    "mustache = cv2.imread('Train/mustache.png',-1)"
   ]
  },
  {
   "cell_type": "code",
   "execution_count": 4,
   "metadata": {},
   "outputs": [],
   "source": [
    "face_cascade = cv2.CascadeClassifier('haarcascade_frontalface_alt.xml')\n",
    "eye_cascade = cv2.CascadeClassifier('haarcascade_mcs_eyepair_big.xml')\n",
    "nose_cascade = cv2.CascadeClassifier('haarcascade_mcs_nose.xml')"
   ]
  },
  {
   "cell_type": "code",
   "execution_count": 5,
   "metadata": {},
   "outputs": [],
   "source": [
    "faces = face_cascade.detectMultiScale(gray, 1.3, 5)"
   ]
  },
  {
   "cell_type": "code",
   "execution_count": 6,
   "metadata": {},
   "outputs": [],
   "source": [
    "img = cv2.cvtColor(img, cv2.COLOR_BGR2BGRA)\n",
    "for (x,y,w,h) in faces:\n",
    "    rg = gray[y:y+h, x:x+w]\n",
    "    face = img[y:y+h,x:x+w]\n",
    "    eyes = eye_cascade.detectMultiScale(rg, 1.3, 5)\n",
    "    for (ex,ey,ew,eh) in eyes:\n",
    "        glass = cv2.resize(glass.copy(), (ew,eh))\n",
    "        eye = rg[ey:ey+eh, ex:ex+ew]\n",
    "        gw,gh,gc = glass.shape\n",
    "        for i in range(0,gw):\n",
    "            for j in range(0,gh):\n",
    "                if glass[i,j][3]!=0:\n",
    "                    face[ey+i,ex+j] = glass[i,j]\n",
    "    noses = nose_cascade.detectMultiScale(rg, 1.3, 5)\n",
    "    for (nx,ny,nw,nh) in noses:\n",
    "        mustache = cv2.resize(mustache.copy(),(nw,nh))\n",
    "        nose = rg[ny:ny+nh, nx:nx+nw]\n",
    "        mw,mh,mc = mustache.shape\n",
    "        for i in range(0,mw):\n",
    "            for j in range(0,mh):\n",
    "                if mustache[i,j][3]!=0:\n",
    "                    face[ny+i,nx+j] = mustache[i,j]\n",
    "\n",
    "    \n",
    "cv2.imshow('img',img)\n",
    "cv2.waitKey(0)\n",
    "cv2.destroyAllWindows()"
   ]
  },
  {
   "cell_type": "code",
   "execution_count": 7,
   "metadata": {},
   "outputs": [
    {
     "data": {
      "text/plain": [
       "(69, 282, 4)"
      ]
     },
     "execution_count": 7,
     "metadata": {},
     "output_type": "execute_result"
    }
   ],
   "source": [
    "glass.shape[][]"
   ]
  }
 ],
 "metadata": {
  "kernelspec": {
   "display_name": "Python 3",
   "language": "python",
   "name": "python3"
  },
  "language_info": {
   "codemirror_mode": {
    "name": "ipython",
    "version": 3
   },
   "file_extension": ".py",
   "mimetype": "text/x-python",
   "name": "python",
   "nbconvert_exporter": "python",
   "pygments_lexer": "ipython3",
   "version": "3.7.4"
  }
 },
 "nbformat": 4,
 "nbformat_minor": 2
}
