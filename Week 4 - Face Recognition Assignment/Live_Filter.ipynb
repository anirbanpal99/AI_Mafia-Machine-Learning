{
 "cells": [
  {
   "cell_type": "code",
   "execution_count": 5,
   "metadata": {},
   "outputs": [],
   "source": [
    "import numpy as np\n",
    "import cv2\n",
    "import os"
   ]
  },
  {
   "cell_type": "code",
   "execution_count": 6,
   "metadata": {},
   "outputs": [],
   "source": [
    "glass = cv2.imread('Train/glasses.png',-1)\n",
    "mustache = cv2.imread('Train/mustache.png',-1)"
   ]
  },
  {
   "cell_type": "code",
   "execution_count": 7,
   "metadata": {},
   "outputs": [],
   "source": [
    "face_cascade = cv2.CascadeClassifier('haarcascade_frontalface_alt.xml')\n",
    "eye_cascade = cv2.CascadeClassifier('haarcascade_mcs_eyepair_big.xml')\n",
    "nose_cascade = cv2.CascadeClassifier('haarcascade_mcs_nose.xml')"
   ]
  },
  {
   "cell_type": "code",
   "execution_count": 22,
   "metadata": {},
   "outputs": [],
   "source": [
    "cap = cv2.VideoCapture(0) \n",
    "while(True):\n",
    "    ret,gray_frame = cap.read()\n",
    "    if ret==False:\n",
    "        continue\n",
    "        \n",
    "    img = gray_frame\n",
    "    gray = cv2.cvtColor(img, cv2.COLOR_BGR2GRAY)\n",
    "    \n",
    "    faces=face_cascade.detectMultiScale(gray,1.3,5)\n",
    "    img = cv2.cvtColor(img, cv2.COLOR_BGR2BGRA)\n",
    "    for (x,y,w,h) in faces:\n",
    "        rg = gray[y:y+h, x:x+w]\n",
    "        face = img[y:y+h,x:x+w]\n",
    "        eyes = eye_cascade.detectMultiScale(rg, 1.3, 5)\n",
    "        cv2.rectangle(img,(x,y),(x+w,y+h),(255,255,0),2)\n",
    "        for (ex,ey,ew,eh) in eyes:\n",
    "            glass = cv2.resize(glass.copy(), (ew,eh))\n",
    "            eye = rg[ey:ey+eh, ex:ex+ew]\n",
    "            gw,gh,gc = glass.shape\n",
    "            for i in range(0,gw):\n",
    "                for j in range(0,gh):\n",
    "                    if glass[i,j][3]!=0:\n",
    "                        face[ey+i,ex+j] = glass[i,j]\n",
    "                        \n",
    "        noses = nose_cascade.detectMultiScale(rg, 1.3, 5)\n",
    "        for (nx,ny,nw,nh) in noses:\n",
    "            mustache = cv2.resize(mustache.copy(),(nw,nh))\n",
    "            nose = rg[ny:ny+nh, nx:nx+nw]\n",
    "            mw,mh,mc = mustache.shape\n",
    "            for i in range(0,mw):\n",
    "                for j in range(0,mh):\n",
    "                    if mustache[i,j][3]!=0:\n",
    "                        face[ny+i,nx+j] = mustache[i,j]\n",
    "    cv2.imshow(\"frame\",img)\n",
    "    key=cv2.waitKey(1) & 0xFF\n",
    "\n",
    "    if key==ord('q'):\n",
    "        break\n",
    "cap.release()\n",
    "cv2.destroyAllWindows()"
   ]
  },
  {
   "cell_type": "code",
   "execution_count": null,
   "metadata": {},
   "outputs": [],
   "source": []
  }
 ],
 "metadata": {
  "kernelspec": {
   "display_name": "Python 3",
   "language": "python",
   "name": "python3"
  },
  "language_info": {
   "codemirror_mode": {
    "name": "ipython",
    "version": 3
   },
   "file_extension": ".py",
   "mimetype": "text/x-python",
   "name": "python",
   "nbconvert_exporter": "python",
   "pygments_lexer": "ipython3",
   "version": "3.7.4"
  }
 },
 "nbformat": 4,
 "nbformat_minor": 2
}
